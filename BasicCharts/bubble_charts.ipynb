{
 "cells": [
  {
   "cell_type": "code",
   "execution_count": 7,
   "source": [
    "import plotly.express as px\r\n",
    "import plotly.graph_objects as go"
   ],
   "outputs": [],
   "metadata": {}
  },
  {
   "cell_type": "code",
   "execution_count": 2,
   "source": [
    "dataset = px.data.gapminder()\r\n",
    "dataset.head()"
   ],
   "outputs": [
    {
     "output_type": "execute_result",
     "data": {
      "text/html": [
       "<div>\n",
       "<style scoped>\n",
       "    .dataframe tbody tr th:only-of-type {\n",
       "        vertical-align: middle;\n",
       "    }\n",
       "\n",
       "    .dataframe tbody tr th {\n",
       "        vertical-align: top;\n",
       "    }\n",
       "\n",
       "    .dataframe thead th {\n",
       "        text-align: right;\n",
       "    }\n",
       "</style>\n",
       "<table border=\"1\" class=\"dataframe\">\n",
       "  <thead>\n",
       "    <tr style=\"text-align: right;\">\n",
       "      <th></th>\n",
       "      <th>country</th>\n",
       "      <th>continent</th>\n",
       "      <th>year</th>\n",
       "      <th>lifeExp</th>\n",
       "      <th>pop</th>\n",
       "      <th>gdpPercap</th>\n",
       "      <th>iso_alpha</th>\n",
       "      <th>iso_num</th>\n",
       "    </tr>\n",
       "  </thead>\n",
       "  <tbody>\n",
       "    <tr>\n",
       "      <th>0</th>\n",
       "      <td>Afghanistan</td>\n",
       "      <td>Asia</td>\n",
       "      <td>1952</td>\n",
       "      <td>28.801</td>\n",
       "      <td>8425333</td>\n",
       "      <td>779.445314</td>\n",
       "      <td>AFG</td>\n",
       "      <td>4</td>\n",
       "    </tr>\n",
       "    <tr>\n",
       "      <th>1</th>\n",
       "      <td>Afghanistan</td>\n",
       "      <td>Asia</td>\n",
       "      <td>1957</td>\n",
       "      <td>30.332</td>\n",
       "      <td>9240934</td>\n",
       "      <td>820.853030</td>\n",
       "      <td>AFG</td>\n",
       "      <td>4</td>\n",
       "    </tr>\n",
       "    <tr>\n",
       "      <th>2</th>\n",
       "      <td>Afghanistan</td>\n",
       "      <td>Asia</td>\n",
       "      <td>1962</td>\n",
       "      <td>31.997</td>\n",
       "      <td>10267083</td>\n",
       "      <td>853.100710</td>\n",
       "      <td>AFG</td>\n",
       "      <td>4</td>\n",
       "    </tr>\n",
       "    <tr>\n",
       "      <th>3</th>\n",
       "      <td>Afghanistan</td>\n",
       "      <td>Asia</td>\n",
       "      <td>1967</td>\n",
       "      <td>34.020</td>\n",
       "      <td>11537966</td>\n",
       "      <td>836.197138</td>\n",
       "      <td>AFG</td>\n",
       "      <td>4</td>\n",
       "    </tr>\n",
       "    <tr>\n",
       "      <th>4</th>\n",
       "      <td>Afghanistan</td>\n",
       "      <td>Asia</td>\n",
       "      <td>1972</td>\n",
       "      <td>36.088</td>\n",
       "      <td>13079460</td>\n",
       "      <td>739.981106</td>\n",
       "      <td>AFG</td>\n",
       "      <td>4</td>\n",
       "    </tr>\n",
       "  </tbody>\n",
       "</table>\n",
       "</div>"
      ],
      "text/plain": [
       "       country continent  year  lifeExp       pop   gdpPercap iso_alpha  \\\n",
       "0  Afghanistan      Asia  1952   28.801   8425333  779.445314       AFG   \n",
       "1  Afghanistan      Asia  1957   30.332   9240934  820.853030       AFG   \n",
       "2  Afghanistan      Asia  1962   31.997  10267083  853.100710       AFG   \n",
       "3  Afghanistan      Asia  1967   34.020  11537966  836.197138       AFG   \n",
       "4  Afghanistan      Asia  1972   36.088  13079460  739.981106       AFG   \n",
       "\n",
       "   iso_num  \n",
       "0        4  \n",
       "1        4  \n",
       "2        4  \n",
       "3        4  \n",
       "4        4  "
      ]
     },
     "metadata": {},
     "execution_count": 2
    }
   ],
   "metadata": {}
  },
  {
   "cell_type": "code",
   "execution_count": 9,
   "source": [
    "fig = px.scatter(dataset[dataset['country'].str.contains('C')], x=\"gdpPercap\", y=\"lifeExp\",\r\n",
    "                size=\"pop\", color=\"continent\",hover_name=\"country\", log_x=True, size_max=60)\r\n",
    "fig.update_layout(template='plotly_dark')\r\n",
    "fig.show()"
   ],
   "outputs": [
    {
     "output_type": "display_data",
     "data": {
      "application/vnd.plotly.v1+json": {
       "config": {
        "plotlyServerURL": "https://plot.ly"
       },
       "data": [
        {
         "hovertemplate": "<b>%{hovertext}</b><br><br>continent=Asia<br>gdpPercap=%{x}<br>lifeExp=%{y}<br>pop=%{marker.size}<extra></extra>",
         "hovertext": [
          "Cambodia",
          "Cambodia",
          "Cambodia",
          "Cambodia",
          "Cambodia",
          "Cambodia",
          "Cambodia",
          "Cambodia",
          "Cambodia",
          "Cambodia",
          "Cambodia",
          "Cambodia",
          "China",
          "China",
          "China",
          "China",
          "China",
          "China",
          "China",
          "China",
          "China",
          "China",
          "China",
          "China",
          "Hong Kong, China",
          "Hong Kong, China",
          "Hong Kong, China",
          "Hong Kong, China",
          "Hong Kong, China",
          "Hong Kong, China",
          "Hong Kong, China",
          "Hong Kong, China",
          "Hong Kong, China",
          "Hong Kong, China",
          "Hong Kong, China",
          "Hong Kong, China"
         ],
         "legendgroup": "Asia",
         "marker": {
          "color": "#636efa",
          "size": [
           4693836,
           5322536,
           6083619,
           6960067,
           7450606,
           6978607,
           7272485,
           8371791,
           10150094,
           11782962,
           12926707,
           14131858,
           556263527,
           637408000,
           665770000,
           754550000,
           862030000,
           943455000,
           1000281000,
           1084035000,
           1164970000,
           1230075000,
           1280400000,
           1318683096,
           2125900,
           2736300,
           3305200,
           3722800,
           4115700,
           4583700,
           5264500,
           5584510,
           5829696,
           6495918,
           6762476,
           6980412
          ],
          "sizemode": "area",
          "sizeref": 366300.86,
          "symbol": "circle"
         },
         "mode": "markers",
         "name": "Asia",
         "orientation": "v",
         "showlegend": true,
         "type": "scatter",
         "x": [
          368.4692856,
          434.0383364,
          496.9136476,
          523.4323142,
          421.6240257,
          524.9721832,
          624.4754784,
          683.8955732,
          682.3031755,
          734.28517,
          896.2260153,
          1713.778686,
          400.448611,
          575.9870009,
          487.6740183,
          612.7056934,
          676.9000921,
          741.2374699,
          962.4213805,
          1378.904018,
          1655.784158,
          2289.234136,
          3119.280896,
          4959.114854,
          3054.421209,
          3629.076457,
          4692.648272,
          6197.962814,
          8315.928145,
          11186.14125,
          14560.53051,
          20038.47269,
          24757.60301,
          28377.63219,
          30209.01516,
          39724.97867
         ],
         "xaxis": "x",
         "y": [
          39.417,
          41.366,
          43.415,
          45.415,
          40.317,
          31.22,
          50.957,
          53.914,
          55.803,
          56.534,
          56.752,
          59.723,
          44,
          50.54896,
          44.50136,
          58.38112,
          63.11888,
          63.96736,
          65.525,
          67.274,
          68.69,
          70.426,
          72.028,
          72.961,
          60.96,
          64.75,
          67.65,
          70,
          72,
          73.6,
          75.45,
          76.2,
          77.601,
          80,
          81.495,
          82.208
         ],
         "yaxis": "y"
        },
        {
         "hovertemplate": "<b>%{hovertext}</b><br><br>continent=Africa<br>gdpPercap=%{x}<br>lifeExp=%{y}<br>pop=%{marker.size}<extra></extra>",
         "hovertext": [
          "Cameroon",
          "Cameroon",
          "Cameroon",
          "Cameroon",
          "Cameroon",
          "Cameroon",
          "Cameroon",
          "Cameroon",
          "Cameroon",
          "Cameroon",
          "Cameroon",
          "Cameroon",
          "Central African Republic",
          "Central African Republic",
          "Central African Republic",
          "Central African Republic",
          "Central African Republic",
          "Central African Republic",
          "Central African Republic",
          "Central African Republic",
          "Central African Republic",
          "Central African Republic",
          "Central African Republic",
          "Central African Republic",
          "Chad",
          "Chad",
          "Chad",
          "Chad",
          "Chad",
          "Chad",
          "Chad",
          "Chad",
          "Chad",
          "Chad",
          "Chad",
          "Chad",
          "Comoros",
          "Comoros",
          "Comoros",
          "Comoros",
          "Comoros",
          "Comoros",
          "Comoros",
          "Comoros",
          "Comoros",
          "Comoros",
          "Comoros",
          "Comoros",
          "Congo, Dem. Rep.",
          "Congo, Dem. Rep.",
          "Congo, Dem. Rep.",
          "Congo, Dem. Rep.",
          "Congo, Dem. Rep.",
          "Congo, Dem. Rep.",
          "Congo, Dem. Rep.",
          "Congo, Dem. Rep.",
          "Congo, Dem. Rep.",
          "Congo, Dem. Rep.",
          "Congo, Dem. Rep.",
          "Congo, Dem. Rep.",
          "Congo, Rep.",
          "Congo, Rep.",
          "Congo, Rep.",
          "Congo, Rep.",
          "Congo, Rep.",
          "Congo, Rep.",
          "Congo, Rep.",
          "Congo, Rep.",
          "Congo, Rep.",
          "Congo, Rep.",
          "Congo, Rep.",
          "Congo, Rep.",
          "Cote d'Ivoire",
          "Cote d'Ivoire",
          "Cote d'Ivoire",
          "Cote d'Ivoire",
          "Cote d'Ivoire",
          "Cote d'Ivoire",
          "Cote d'Ivoire",
          "Cote d'Ivoire",
          "Cote d'Ivoire",
          "Cote d'Ivoire",
          "Cote d'Ivoire",
          "Cote d'Ivoire"
         ],
         "legendgroup": "Africa",
         "marker": {
          "color": "#EF553B",
          "size": [
           5009067,
           5359923,
           5793633,
           6335506,
           7021028,
           7959865,
           9250831,
           10780667,
           12467171,
           14195809,
           15929988,
           17696293,
           1291695,
           1392284,
           1523478,
           1733638,
           1927260,
           2167533,
           2476971,
           2840009,
           3265124,
           3696513,
           4048013,
           4369038,
           2682462,
           2894855,
           3150417,
           3495967,
           3899068,
           4388260,
           4875118,
           5498955,
           6429417,
           7562011,
           8835739,
           10238807,
           153936,
           170928,
           191689,
           217378,
           250027,
           304739,
           348643,
           395114,
           454429,
           527982,
           614382,
           710960,
           14100005,
           15577932,
           17486434,
           19941073,
           23007669,
           26480870,
           30646495,
           35481645,
           41672143,
           47798986,
           55379852,
           64606759,
           854885,
           940458,
           1047924,
           1179760,
           1340458,
           1536769,
           1774735,
           2064095,
           2409073,
           2800947,
           3328795,
           3800610,
           2977019,
           3300000,
           3832408,
           4744870,
           6071696,
           7459574,
           9025951,
           10761098,
           12772596,
           14625967,
           16252726,
           18013409
          ],
          "sizemode": "area",
          "sizeref": 366300.86,
          "symbol": "circle"
         },
         "mode": "markers",
         "name": "Africa",
         "orientation": "v",
         "showlegend": true,
         "type": "scatter",
         "x": [
          1172.667655,
          1313.048099,
          1399.607441,
          1508.453148,
          1684.146528,
          1783.432873,
          2367.983282,
          2602.664206,
          1793.163278,
          1694.337469,
          1934.011449,
          2042.09524,
          1071.310713,
          1190.844328,
          1193.068753,
          1136.056615,
          1070.013275,
          1109.374338,
          956.7529907,
          844.8763504,
          747.9055252,
          740.5063317,
          738.6906068,
          706.016537,
          1178.665927,
          1308.495577,
          1389.817618,
          1196.810565,
          1104.103987,
          1133.98495,
          797.9081006,
          952.386129,
          1058.0643,
          1004.961353,
          1156.18186,
          1704.063724,
          1102.990936,
          1211.148548,
          1406.648278,
          1876.029643,
          1937.577675,
          1172.603047,
          1267.100083,
          1315.980812,
          1246.90737,
          1173.618235,
          1075.811558,
          986.1478792,
          780.5423257,
          905.8602303,
          896.3146335,
          861.5932424,
          904.8960685,
          795.757282,
          673.7478181,
          672.774812,
          457.7191807,
          312.188423,
          241.1658765,
          277.5518587,
          2125.621418,
          2315.056572,
          2464.783157,
          2677.939642,
          3213.152683,
          3259.178978,
          4879.507522,
          4201.194937,
          4016.239529,
          3484.164376,
          3484.06197,
          3632.557798,
          1388.594732,
          1500.895925,
          1728.869428,
          2052.050473,
          2378.201111,
          2517.736547,
          2602.710169,
          2156.956069,
          1648.073791,
          1786.265407,
          1648.800823,
          1544.750112
         ],
         "xaxis": "x",
         "y": [
          38.523,
          40.428,
          42.643,
          44.799,
          47.049,
          49.355,
          52.961,
          54.985,
          54.314,
          52.199,
          49.856,
          50.43,
          35.463,
          37.464,
          39.475,
          41.478,
          43.457,
          46.775,
          48.295,
          50.485,
          49.396,
          46.066,
          43.308,
          44.741,
          38.092,
          39.881,
          41.716,
          43.601,
          45.569,
          47.383,
          49.517,
          51.051,
          51.724,
          51.573,
          50.525,
          50.651,
          40.715,
          42.46,
          44.467,
          46.472,
          48.944,
          50.939,
          52.933,
          54.926,
          57.939,
          60.66,
          62.974,
          65.152,
          39.143,
          40.652,
          42.122,
          44.056,
          45.989,
          47.804,
          47.784,
          47.412,
          45.548,
          42.587,
          44.966,
          46.462,
          42.111,
          45.053,
          48.435,
          52.04,
          54.907,
          55.625,
          56.695,
          57.47,
          56.433,
          52.962,
          52.97,
          55.322,
          40.477,
          42.469,
          44.93,
          47.35,
          49.801,
          52.374,
          53.983,
          54.655,
          52.044,
          47.991,
          46.832,
          48.328
         ],
         "yaxis": "y"
        },
        {
         "hovertemplate": "<b>%{hovertext}</b><br><br>continent=Americas<br>gdpPercap=%{x}<br>lifeExp=%{y}<br>pop=%{marker.size}<extra></extra>",
         "hovertext": [
          "Canada",
          "Canada",
          "Canada",
          "Canada",
          "Canada",
          "Canada",
          "Canada",
          "Canada",
          "Canada",
          "Canada",
          "Canada",
          "Canada",
          "Chile",
          "Chile",
          "Chile",
          "Chile",
          "Chile",
          "Chile",
          "Chile",
          "Chile",
          "Chile",
          "Chile",
          "Chile",
          "Chile",
          "Colombia",
          "Colombia",
          "Colombia",
          "Colombia",
          "Colombia",
          "Colombia",
          "Colombia",
          "Colombia",
          "Colombia",
          "Colombia",
          "Colombia",
          "Colombia",
          "Costa Rica",
          "Costa Rica",
          "Costa Rica",
          "Costa Rica",
          "Costa Rica",
          "Costa Rica",
          "Costa Rica",
          "Costa Rica",
          "Costa Rica",
          "Costa Rica",
          "Costa Rica",
          "Costa Rica",
          "Cuba",
          "Cuba",
          "Cuba",
          "Cuba",
          "Cuba",
          "Cuba",
          "Cuba",
          "Cuba",
          "Cuba",
          "Cuba",
          "Cuba",
          "Cuba"
         ],
         "legendgroup": "Americas",
         "marker": {
          "color": "#00cc96",
          "size": [
           14785584,
           17010154,
           18985849,
           20819767,
           22284500,
           23796400,
           25201900,
           26549700,
           28523502,
           30305843,
           31902268,
           33390141,
           6377619,
           7048426,
           7961258,
           8858908,
           9717524,
           10599793,
           11487112,
           12463354,
           13572994,
           14599929,
           15497046,
           16284741,
           12350771,
           14485993,
           17009885,
           19764027,
           22542890,
           25094412,
           27764644,
           30964245,
           34202721,
           37657830,
           41008227,
           44227550,
           926317,
           1112300,
           1345187,
           1588717,
           1834796,
           2108457,
           2424367,
           2799811,
           3173216,
           3518107,
           3834934,
           4133884,
           6007797,
           6640752,
           7254373,
           8139332,
           8831348,
           9537988,
           9789224,
           10239839,
           10723260,
           10983007,
           11226999,
           11416987
          ],
          "sizemode": "area",
          "sizeref": 366300.86,
          "symbol": "circle"
         },
         "mode": "markers",
         "name": "Americas",
         "orientation": "v",
         "showlegend": true,
         "type": "scatter",
         "x": [
          11367.16112,
          12489.95006,
          13462.48555,
          16076.58803,
          18970.57086,
          22090.88306,
          22898.79214,
          26626.51503,
          26342.88426,
          28954.92589,
          33328.96507,
          36319.23501,
          3939.978789,
          4315.622723,
          4519.094331,
          5106.654313,
          5494.024437,
          4756.763836,
          5095.665738,
          5547.063754,
          7596.125964,
          10118.05318,
          10778.78385,
          13171.63885,
          2144.115096,
          2323.805581,
          2492.351109,
          2678.729839,
          3264.660041,
          3815.80787,
          4397.575659,
          4903.2191,
          5444.648617,
          6117.361746,
          5755.259962,
          7006.580419,
          2627.009471,
          2990.010802,
          3460.937025,
          4161.727834,
          5118.146939,
          5926.876967,
          5262.734751,
          5629.915318,
          6160.416317,
          6677.045314,
          7723.447195,
          9645.06142,
          5586.53878,
          6092.174359,
          5180.75591,
          5690.268015,
          5305.445256,
          6380.494966,
          7316.918107,
          7532.924763,
          5592.843963,
          5431.990415,
          6340.646683,
          8948.102923
         ],
         "xaxis": "x",
         "y": [
          68.75,
          69.96,
          71.3,
          72.13,
          72.88,
          74.21,
          75.76,
          76.86,
          77.95,
          78.61,
          79.77,
          80.653,
          54.745,
          56.074,
          57.924,
          60.523,
          63.441,
          67.052,
          70.565,
          72.492,
          74.126,
          75.816,
          77.86,
          78.553,
          50.643,
          55.118,
          57.863,
          59.963,
          61.623,
          63.837,
          66.653,
          67.768,
          68.421,
          70.313,
          71.682,
          72.889,
          57.206,
          60.026,
          62.842,
          65.424,
          67.849,
          70.75,
          73.45,
          74.752,
          75.713,
          77.26,
          78.123,
          78.782,
          59.421,
          62.325,
          65.246,
          68.29,
          70.723,
          72.649,
          73.717,
          74.174,
          74.414,
          76.151,
          77.158,
          78.273
         ],
         "yaxis": "y"
        },
        {
         "hovertemplate": "<b>%{hovertext}</b><br><br>continent=Europe<br>gdpPercap=%{x}<br>lifeExp=%{y}<br>pop=%{marker.size}<extra></extra>",
         "hovertext": [
          "Croatia",
          "Croatia",
          "Croatia",
          "Croatia",
          "Croatia",
          "Croatia",
          "Croatia",
          "Croatia",
          "Croatia",
          "Croatia",
          "Croatia",
          "Croatia",
          "Czech Republic",
          "Czech Republic",
          "Czech Republic",
          "Czech Republic",
          "Czech Republic",
          "Czech Republic",
          "Czech Republic",
          "Czech Republic",
          "Czech Republic",
          "Czech Republic",
          "Czech Republic",
          "Czech Republic"
         ],
         "legendgroup": "Europe",
         "marker": {
          "color": "#ab63fa",
          "size": [
           3882229,
           3991242,
           4076557,
           4174366,
           4225310,
           4318673,
           4413368,
           4484310,
           4494013,
           4444595,
           4481020,
           4493312,
           9125183,
           9513758,
           9620282,
           9835109,
           9862158,
           10161915,
           10303704,
           10311597,
           10315702,
           10300707,
           10256295,
           10228744
          ],
          "sizemode": "area",
          "sizeref": 366300.86,
          "symbol": "circle"
         },
         "mode": "markers",
         "name": "Europe",
         "orientation": "v",
         "showlegend": true,
         "type": "scatter",
         "x": [
          3119.23652,
          4338.231617,
          5477.890018,
          6960.297861,
          9164.090127,
          11305.38517,
          13221.82184,
          13822.58394,
          8447.794873,
          9875.604515,
          11628.38895,
          14619.22272,
          6876.14025,
          8256.343918,
          10136.86713,
          11399.44489,
          13108.4536,
          14800.16062,
          15377.22855,
          16310.4434,
          14297.02122,
          16048.51424,
          17596.21022,
          22833.30851
         ],
         "xaxis": "x",
         "y": [
          61.21,
          64.77,
          67.13,
          68.5,
          69.61,
          70.64,
          70.46,
          71.52,
          72.527,
          73.68,
          74.876,
          75.748,
          66.87,
          69.03,
          69.9,
          70.38,
          70.29,
          70.71,
          70.96,
          71.58,
          72.4,
          74.01,
          75.51,
          76.486
         ],
         "yaxis": "y"
        }
       ],
       "layout": {
        "legend": {
         "itemsizing": "constant",
         "title": {
          "text": "continent"
         },
         "tracegroupgap": 0
        },
        "margin": {
         "t": 60
        },
        "template": {
         "data": {
          "bar": [
           {
            "error_x": {
             "color": "#f2f5fa"
            },
            "error_y": {
             "color": "#f2f5fa"
            },
            "marker": {
             "line": {
              "color": "rgb(17,17,17)",
              "width": 0.5
             }
            },
            "type": "bar"
           }
          ],
          "barpolar": [
           {
            "marker": {
             "line": {
              "color": "rgb(17,17,17)",
              "width": 0.5
             }
            },
            "type": "barpolar"
           }
          ],
          "carpet": [
           {
            "aaxis": {
             "endlinecolor": "#A2B1C6",
             "gridcolor": "#506784",
             "linecolor": "#506784",
             "minorgridcolor": "#506784",
             "startlinecolor": "#A2B1C6"
            },
            "baxis": {
             "endlinecolor": "#A2B1C6",
             "gridcolor": "#506784",
             "linecolor": "#506784",
             "minorgridcolor": "#506784",
             "startlinecolor": "#A2B1C6"
            },
            "type": "carpet"
           }
          ],
          "choropleth": [
           {
            "colorbar": {
             "outlinewidth": 0,
             "ticks": ""
            },
            "type": "choropleth"
           }
          ],
          "contour": [
           {
            "colorbar": {
             "outlinewidth": 0,
             "ticks": ""
            },
            "colorscale": [
             [
              0,
              "#0d0887"
             ],
             [
              0.1111111111111111,
              "#46039f"
             ],
             [
              0.2222222222222222,
              "#7201a8"
             ],
             [
              0.3333333333333333,
              "#9c179e"
             ],
             [
              0.4444444444444444,
              "#bd3786"
             ],
             [
              0.5555555555555556,
              "#d8576b"
             ],
             [
              0.6666666666666666,
              "#ed7953"
             ],
             [
              0.7777777777777778,
              "#fb9f3a"
             ],
             [
              0.8888888888888888,
              "#fdca26"
             ],
             [
              1,
              "#f0f921"
             ]
            ],
            "type": "contour"
           }
          ],
          "contourcarpet": [
           {
            "colorbar": {
             "outlinewidth": 0,
             "ticks": ""
            },
            "type": "contourcarpet"
           }
          ],
          "heatmap": [
           {
            "colorbar": {
             "outlinewidth": 0,
             "ticks": ""
            },
            "colorscale": [
             [
              0,
              "#0d0887"
             ],
             [
              0.1111111111111111,
              "#46039f"
             ],
             [
              0.2222222222222222,
              "#7201a8"
             ],
             [
              0.3333333333333333,
              "#9c179e"
             ],
             [
              0.4444444444444444,
              "#bd3786"
             ],
             [
              0.5555555555555556,
              "#d8576b"
             ],
             [
              0.6666666666666666,
              "#ed7953"
             ],
             [
              0.7777777777777778,
              "#fb9f3a"
             ],
             [
              0.8888888888888888,
              "#fdca26"
             ],
             [
              1,
              "#f0f921"
             ]
            ],
            "type": "heatmap"
           }
          ],
          "heatmapgl": [
           {
            "colorbar": {
             "outlinewidth": 0,
             "ticks": ""
            },
            "colorscale": [
             [
              0,
              "#0d0887"
             ],
             [
              0.1111111111111111,
              "#46039f"
             ],
             [
              0.2222222222222222,
              "#7201a8"
             ],
             [
              0.3333333333333333,
              "#9c179e"
             ],
             [
              0.4444444444444444,
              "#bd3786"
             ],
             [
              0.5555555555555556,
              "#d8576b"
             ],
             [
              0.6666666666666666,
              "#ed7953"
             ],
             [
              0.7777777777777778,
              "#fb9f3a"
             ],
             [
              0.8888888888888888,
              "#fdca26"
             ],
             [
              1,
              "#f0f921"
             ]
            ],
            "type": "heatmapgl"
           }
          ],
          "histogram": [
           {
            "marker": {
             "colorbar": {
              "outlinewidth": 0,
              "ticks": ""
             }
            },
            "type": "histogram"
           }
          ],
          "histogram2d": [
           {
            "colorbar": {
             "outlinewidth": 0,
             "ticks": ""
            },
            "colorscale": [
             [
              0,
              "#0d0887"
             ],
             [
              0.1111111111111111,
              "#46039f"
             ],
             [
              0.2222222222222222,
              "#7201a8"
             ],
             [
              0.3333333333333333,
              "#9c179e"
             ],
             [
              0.4444444444444444,
              "#bd3786"
             ],
             [
              0.5555555555555556,
              "#d8576b"
             ],
             [
              0.6666666666666666,
              "#ed7953"
             ],
             [
              0.7777777777777778,
              "#fb9f3a"
             ],
             [
              0.8888888888888888,
              "#fdca26"
             ],
             [
              1,
              "#f0f921"
             ]
            ],
            "type": "histogram2d"
           }
          ],
          "histogram2dcontour": [
           {
            "colorbar": {
             "outlinewidth": 0,
             "ticks": ""
            },
            "colorscale": [
             [
              0,
              "#0d0887"
             ],
             [
              0.1111111111111111,
              "#46039f"
             ],
             [
              0.2222222222222222,
              "#7201a8"
             ],
             [
              0.3333333333333333,
              "#9c179e"
             ],
             [
              0.4444444444444444,
              "#bd3786"
             ],
             [
              0.5555555555555556,
              "#d8576b"
             ],
             [
              0.6666666666666666,
              "#ed7953"
             ],
             [
              0.7777777777777778,
              "#fb9f3a"
             ],
             [
              0.8888888888888888,
              "#fdca26"
             ],
             [
              1,
              "#f0f921"
             ]
            ],
            "type": "histogram2dcontour"
           }
          ],
          "mesh3d": [
           {
            "colorbar": {
             "outlinewidth": 0,
             "ticks": ""
            },
            "type": "mesh3d"
           }
          ],
          "parcoords": [
           {
            "line": {
             "colorbar": {
              "outlinewidth": 0,
              "ticks": ""
             }
            },
            "type": "parcoords"
           }
          ],
          "pie": [
           {
            "automargin": true,
            "type": "pie"
           }
          ],
          "scatter": [
           {
            "marker": {
             "line": {
              "color": "#283442"
             }
            },
            "type": "scatter"
           }
          ],
          "scatter3d": [
           {
            "line": {
             "colorbar": {
              "outlinewidth": 0,
              "ticks": ""
             }
            },
            "marker": {
             "colorbar": {
              "outlinewidth": 0,
              "ticks": ""
             }
            },
            "type": "scatter3d"
           }
          ],
          "scattercarpet": [
           {
            "marker": {
             "colorbar": {
              "outlinewidth": 0,
              "ticks": ""
             }
            },
            "type": "scattercarpet"
           }
          ],
          "scattergeo": [
           {
            "marker": {
             "colorbar": {
              "outlinewidth": 0,
              "ticks": ""
             }
            },
            "type": "scattergeo"
           }
          ],
          "scattergl": [
           {
            "marker": {
             "line": {
              "color": "#283442"
             }
            },
            "type": "scattergl"
           }
          ],
          "scattermapbox": [
           {
            "marker": {
             "colorbar": {
              "outlinewidth": 0,
              "ticks": ""
             }
            },
            "type": "scattermapbox"
           }
          ],
          "scatterpolar": [
           {
            "marker": {
             "colorbar": {
              "outlinewidth": 0,
              "ticks": ""
             }
            },
            "type": "scatterpolar"
           }
          ],
          "scatterpolargl": [
           {
            "marker": {
             "colorbar": {
              "outlinewidth": 0,
              "ticks": ""
             }
            },
            "type": "scatterpolargl"
           }
          ],
          "scatterternary": [
           {
            "marker": {
             "colorbar": {
              "outlinewidth": 0,
              "ticks": ""
             }
            },
            "type": "scatterternary"
           }
          ],
          "surface": [
           {
            "colorbar": {
             "outlinewidth": 0,
             "ticks": ""
            },
            "colorscale": [
             [
              0,
              "#0d0887"
             ],
             [
              0.1111111111111111,
              "#46039f"
             ],
             [
              0.2222222222222222,
              "#7201a8"
             ],
             [
              0.3333333333333333,
              "#9c179e"
             ],
             [
              0.4444444444444444,
              "#bd3786"
             ],
             [
              0.5555555555555556,
              "#d8576b"
             ],
             [
              0.6666666666666666,
              "#ed7953"
             ],
             [
              0.7777777777777778,
              "#fb9f3a"
             ],
             [
              0.8888888888888888,
              "#fdca26"
             ],
             [
              1,
              "#f0f921"
             ]
            ],
            "type": "surface"
           }
          ],
          "table": [
           {
            "cells": {
             "fill": {
              "color": "#506784"
             },
             "line": {
              "color": "rgb(17,17,17)"
             }
            },
            "header": {
             "fill": {
              "color": "#2a3f5f"
             },
             "line": {
              "color": "rgb(17,17,17)"
             }
            },
            "type": "table"
           }
          ]
         },
         "layout": {
          "annotationdefaults": {
           "arrowcolor": "#f2f5fa",
           "arrowhead": 0,
           "arrowwidth": 1
          },
          "autotypenumbers": "strict",
          "coloraxis": {
           "colorbar": {
            "outlinewidth": 0,
            "ticks": ""
           }
          },
          "colorscale": {
           "diverging": [
            [
             0,
             "#8e0152"
            ],
            [
             0.1,
             "#c51b7d"
            ],
            [
             0.2,
             "#de77ae"
            ],
            [
             0.3,
             "#f1b6da"
            ],
            [
             0.4,
             "#fde0ef"
            ],
            [
             0.5,
             "#f7f7f7"
            ],
            [
             0.6,
             "#e6f5d0"
            ],
            [
             0.7,
             "#b8e186"
            ],
            [
             0.8,
             "#7fbc41"
            ],
            [
             0.9,
             "#4d9221"
            ],
            [
             1,
             "#276419"
            ]
           ],
           "sequential": [
            [
             0,
             "#0d0887"
            ],
            [
             0.1111111111111111,
             "#46039f"
            ],
            [
             0.2222222222222222,
             "#7201a8"
            ],
            [
             0.3333333333333333,
             "#9c179e"
            ],
            [
             0.4444444444444444,
             "#bd3786"
            ],
            [
             0.5555555555555556,
             "#d8576b"
            ],
            [
             0.6666666666666666,
             "#ed7953"
            ],
            [
             0.7777777777777778,
             "#fb9f3a"
            ],
            [
             0.8888888888888888,
             "#fdca26"
            ],
            [
             1,
             "#f0f921"
            ]
           ],
           "sequentialminus": [
            [
             0,
             "#0d0887"
            ],
            [
             0.1111111111111111,
             "#46039f"
            ],
            [
             0.2222222222222222,
             "#7201a8"
            ],
            [
             0.3333333333333333,
             "#9c179e"
            ],
            [
             0.4444444444444444,
             "#bd3786"
            ],
            [
             0.5555555555555556,
             "#d8576b"
            ],
            [
             0.6666666666666666,
             "#ed7953"
            ],
            [
             0.7777777777777778,
             "#fb9f3a"
            ],
            [
             0.8888888888888888,
             "#fdca26"
            ],
            [
             1,
             "#f0f921"
            ]
           ]
          },
          "colorway": [
           "#636efa",
           "#EF553B",
           "#00cc96",
           "#ab63fa",
           "#FFA15A",
           "#19d3f3",
           "#FF6692",
           "#B6E880",
           "#FF97FF",
           "#FECB52"
          ],
          "font": {
           "color": "#f2f5fa"
          },
          "geo": {
           "bgcolor": "rgb(17,17,17)",
           "lakecolor": "rgb(17,17,17)",
           "landcolor": "rgb(17,17,17)",
           "showlakes": true,
           "showland": true,
           "subunitcolor": "#506784"
          },
          "hoverlabel": {
           "align": "left"
          },
          "hovermode": "closest",
          "mapbox": {
           "style": "dark"
          },
          "paper_bgcolor": "rgb(17,17,17)",
          "plot_bgcolor": "rgb(17,17,17)",
          "polar": {
           "angularaxis": {
            "gridcolor": "#506784",
            "linecolor": "#506784",
            "ticks": ""
           },
           "bgcolor": "rgb(17,17,17)",
           "radialaxis": {
            "gridcolor": "#506784",
            "linecolor": "#506784",
            "ticks": ""
           }
          },
          "scene": {
           "xaxis": {
            "backgroundcolor": "rgb(17,17,17)",
            "gridcolor": "#506784",
            "gridwidth": 2,
            "linecolor": "#506784",
            "showbackground": true,
            "ticks": "",
            "zerolinecolor": "#C8D4E3"
           },
           "yaxis": {
            "backgroundcolor": "rgb(17,17,17)",
            "gridcolor": "#506784",
            "gridwidth": 2,
            "linecolor": "#506784",
            "showbackground": true,
            "ticks": "",
            "zerolinecolor": "#C8D4E3"
           },
           "zaxis": {
            "backgroundcolor": "rgb(17,17,17)",
            "gridcolor": "#506784",
            "gridwidth": 2,
            "linecolor": "#506784",
            "showbackground": true,
            "ticks": "",
            "zerolinecolor": "#C8D4E3"
           }
          },
          "shapedefaults": {
           "line": {
            "color": "#f2f5fa"
           }
          },
          "sliderdefaults": {
           "bgcolor": "#C8D4E3",
           "bordercolor": "rgb(17,17,17)",
           "borderwidth": 1,
           "tickwidth": 0
          },
          "ternary": {
           "aaxis": {
            "gridcolor": "#506784",
            "linecolor": "#506784",
            "ticks": ""
           },
           "baxis": {
            "gridcolor": "#506784",
            "linecolor": "#506784",
            "ticks": ""
           },
           "bgcolor": "rgb(17,17,17)",
           "caxis": {
            "gridcolor": "#506784",
            "linecolor": "#506784",
            "ticks": ""
           }
          },
          "title": {
           "x": 0.05
          },
          "updatemenudefaults": {
           "bgcolor": "#506784",
           "borderwidth": 0
          },
          "xaxis": {
           "automargin": true,
           "gridcolor": "#283442",
           "linecolor": "#506784",
           "ticks": "",
           "title": {
            "standoff": 15
           },
           "zerolinecolor": "#283442",
           "zerolinewidth": 2
          },
          "yaxis": {
           "automargin": true,
           "gridcolor": "#283442",
           "linecolor": "#506784",
           "ticks": "",
           "title": {
            "standoff": 15
           },
           "zerolinecolor": "#283442",
           "zerolinewidth": 2
          }
         }
        },
        "xaxis": {
         "anchor": "y",
         "domain": [
          0,
          1
         ],
         "title": {
          "text": "gdpPercap"
         },
         "type": "log"
        },
        "yaxis": {
         "anchor": "x",
         "domain": [
          0,
          1
         ],
         "title": {
          "text": "lifeExp"
         }
        }
       }
      }
     },
     "metadata": {}
    }
   ],
   "metadata": {}
  },
  {
   "cell_type": "code",
   "execution_count": 11,
   "source": [
    "fig1 = go.Figure(data=[go.Scatter(\r\n",
    "    x=[1, 3.2, 5.4, 7.6, 9.8, 12.5],\r\n",
    "    y=[1, 3.2, 5.4, 7.6, 9.8, 12.5],\r\n",
    "    mode='markers',\r\n",
    "    marker=dict(\r\n",
    "        color=[120, 125, 130, 135, 140, 145],\r\n",
    "        size=[15, 30, 55, 70, 90, 110],\r\n",
    "        showscale=True\r\n",
    "    )\r\n",
    ")])\r\n",
    "fig1.update_layout(template='plotly_dark')\r\n",
    "fig1.show()\r\n"
   ],
   "outputs": [
    {
     "output_type": "display_data",
     "data": {
      "application/vnd.plotly.v1+json": {
       "config": {
        "plotlyServerURL": "https://plot.ly"
       },
       "data": [
        {
         "marker": {
          "color": [
           120,
           125,
           130,
           135,
           140,
           145
          ],
          "showscale": true,
          "size": [
           15,
           30,
           55,
           70,
           90,
           110
          ]
         },
         "mode": "markers",
         "type": "scatter",
         "x": [
          1,
          3.2,
          5.4,
          7.6,
          9.8,
          12.5
         ],
         "y": [
          1,
          3.2,
          5.4,
          7.6,
          9.8,
          12.5
         ]
        }
       ],
       "layout": {
        "template": {
         "data": {
          "bar": [
           {
            "error_x": {
             "color": "#f2f5fa"
            },
            "error_y": {
             "color": "#f2f5fa"
            },
            "marker": {
             "line": {
              "color": "rgb(17,17,17)",
              "width": 0.5
             }
            },
            "type": "bar"
           }
          ],
          "barpolar": [
           {
            "marker": {
             "line": {
              "color": "rgb(17,17,17)",
              "width": 0.5
             }
            },
            "type": "barpolar"
           }
          ],
          "carpet": [
           {
            "aaxis": {
             "endlinecolor": "#A2B1C6",
             "gridcolor": "#506784",
             "linecolor": "#506784",
             "minorgridcolor": "#506784",
             "startlinecolor": "#A2B1C6"
            },
            "baxis": {
             "endlinecolor": "#A2B1C6",
             "gridcolor": "#506784",
             "linecolor": "#506784",
             "minorgridcolor": "#506784",
             "startlinecolor": "#A2B1C6"
            },
            "type": "carpet"
           }
          ],
          "choropleth": [
           {
            "colorbar": {
             "outlinewidth": 0,
             "ticks": ""
            },
            "type": "choropleth"
           }
          ],
          "contour": [
           {
            "colorbar": {
             "outlinewidth": 0,
             "ticks": ""
            },
            "colorscale": [
             [
              0,
              "#0d0887"
             ],
             [
              0.1111111111111111,
              "#46039f"
             ],
             [
              0.2222222222222222,
              "#7201a8"
             ],
             [
              0.3333333333333333,
              "#9c179e"
             ],
             [
              0.4444444444444444,
              "#bd3786"
             ],
             [
              0.5555555555555556,
              "#d8576b"
             ],
             [
              0.6666666666666666,
              "#ed7953"
             ],
             [
              0.7777777777777778,
              "#fb9f3a"
             ],
             [
              0.8888888888888888,
              "#fdca26"
             ],
             [
              1,
              "#f0f921"
             ]
            ],
            "type": "contour"
           }
          ],
          "contourcarpet": [
           {
            "colorbar": {
             "outlinewidth": 0,
             "ticks": ""
            },
            "type": "contourcarpet"
           }
          ],
          "heatmap": [
           {
            "colorbar": {
             "outlinewidth": 0,
             "ticks": ""
            },
            "colorscale": [
             [
              0,
              "#0d0887"
             ],
             [
              0.1111111111111111,
              "#46039f"
             ],
             [
              0.2222222222222222,
              "#7201a8"
             ],
             [
              0.3333333333333333,
              "#9c179e"
             ],
             [
              0.4444444444444444,
              "#bd3786"
             ],
             [
              0.5555555555555556,
              "#d8576b"
             ],
             [
              0.6666666666666666,
              "#ed7953"
             ],
             [
              0.7777777777777778,
              "#fb9f3a"
             ],
             [
              0.8888888888888888,
              "#fdca26"
             ],
             [
              1,
              "#f0f921"
             ]
            ],
            "type": "heatmap"
           }
          ],
          "heatmapgl": [
           {
            "colorbar": {
             "outlinewidth": 0,
             "ticks": ""
            },
            "colorscale": [
             [
              0,
              "#0d0887"
             ],
             [
              0.1111111111111111,
              "#46039f"
             ],
             [
              0.2222222222222222,
              "#7201a8"
             ],
             [
              0.3333333333333333,
              "#9c179e"
             ],
             [
              0.4444444444444444,
              "#bd3786"
             ],
             [
              0.5555555555555556,
              "#d8576b"
             ],
             [
              0.6666666666666666,
              "#ed7953"
             ],
             [
              0.7777777777777778,
              "#fb9f3a"
             ],
             [
              0.8888888888888888,
              "#fdca26"
             ],
             [
              1,
              "#f0f921"
             ]
            ],
            "type": "heatmapgl"
           }
          ],
          "histogram": [
           {
            "marker": {
             "colorbar": {
              "outlinewidth": 0,
              "ticks": ""
             }
            },
            "type": "histogram"
           }
          ],
          "histogram2d": [
           {
            "colorbar": {
             "outlinewidth": 0,
             "ticks": ""
            },
            "colorscale": [
             [
              0,
              "#0d0887"
             ],
             [
              0.1111111111111111,
              "#46039f"
             ],
             [
              0.2222222222222222,
              "#7201a8"
             ],
             [
              0.3333333333333333,
              "#9c179e"
             ],
             [
              0.4444444444444444,
              "#bd3786"
             ],
             [
              0.5555555555555556,
              "#d8576b"
             ],
             [
              0.6666666666666666,
              "#ed7953"
             ],
             [
              0.7777777777777778,
              "#fb9f3a"
             ],
             [
              0.8888888888888888,
              "#fdca26"
             ],
             [
              1,
              "#f0f921"
             ]
            ],
            "type": "histogram2d"
           }
          ],
          "histogram2dcontour": [
           {
            "colorbar": {
             "outlinewidth": 0,
             "ticks": ""
            },
            "colorscale": [
             [
              0,
              "#0d0887"
             ],
             [
              0.1111111111111111,
              "#46039f"
             ],
             [
              0.2222222222222222,
              "#7201a8"
             ],
             [
              0.3333333333333333,
              "#9c179e"
             ],
             [
              0.4444444444444444,
              "#bd3786"
             ],
             [
              0.5555555555555556,
              "#d8576b"
             ],
             [
              0.6666666666666666,
              "#ed7953"
             ],
             [
              0.7777777777777778,
              "#fb9f3a"
             ],
             [
              0.8888888888888888,
              "#fdca26"
             ],
             [
              1,
              "#f0f921"
             ]
            ],
            "type": "histogram2dcontour"
           }
          ],
          "mesh3d": [
           {
            "colorbar": {
             "outlinewidth": 0,
             "ticks": ""
            },
            "type": "mesh3d"
           }
          ],
          "parcoords": [
           {
            "line": {
             "colorbar": {
              "outlinewidth": 0,
              "ticks": ""
             }
            },
            "type": "parcoords"
           }
          ],
          "pie": [
           {
            "automargin": true,
            "type": "pie"
           }
          ],
          "scatter": [
           {
            "marker": {
             "line": {
              "color": "#283442"
             }
            },
            "type": "scatter"
           }
          ],
          "scatter3d": [
           {
            "line": {
             "colorbar": {
              "outlinewidth": 0,
              "ticks": ""
             }
            },
            "marker": {
             "colorbar": {
              "outlinewidth": 0,
              "ticks": ""
             }
            },
            "type": "scatter3d"
           }
          ],
          "scattercarpet": [
           {
            "marker": {
             "colorbar": {
              "outlinewidth": 0,
              "ticks": ""
             }
            },
            "type": "scattercarpet"
           }
          ],
          "scattergeo": [
           {
            "marker": {
             "colorbar": {
              "outlinewidth": 0,
              "ticks": ""
             }
            },
            "type": "scattergeo"
           }
          ],
          "scattergl": [
           {
            "marker": {
             "line": {
              "color": "#283442"
             }
            },
            "type": "scattergl"
           }
          ],
          "scattermapbox": [
           {
            "marker": {
             "colorbar": {
              "outlinewidth": 0,
              "ticks": ""
             }
            },
            "type": "scattermapbox"
           }
          ],
          "scatterpolar": [
           {
            "marker": {
             "colorbar": {
              "outlinewidth": 0,
              "ticks": ""
             }
            },
            "type": "scatterpolar"
           }
          ],
          "scatterpolargl": [
           {
            "marker": {
             "colorbar": {
              "outlinewidth": 0,
              "ticks": ""
             }
            },
            "type": "scatterpolargl"
           }
          ],
          "scatterternary": [
           {
            "marker": {
             "colorbar": {
              "outlinewidth": 0,
              "ticks": ""
             }
            },
            "type": "scatterternary"
           }
          ],
          "surface": [
           {
            "colorbar": {
             "outlinewidth": 0,
             "ticks": ""
            },
            "colorscale": [
             [
              0,
              "#0d0887"
             ],
             [
              0.1111111111111111,
              "#46039f"
             ],
             [
              0.2222222222222222,
              "#7201a8"
             ],
             [
              0.3333333333333333,
              "#9c179e"
             ],
             [
              0.4444444444444444,
              "#bd3786"
             ],
             [
              0.5555555555555556,
              "#d8576b"
             ],
             [
              0.6666666666666666,
              "#ed7953"
             ],
             [
              0.7777777777777778,
              "#fb9f3a"
             ],
             [
              0.8888888888888888,
              "#fdca26"
             ],
             [
              1,
              "#f0f921"
             ]
            ],
            "type": "surface"
           }
          ],
          "table": [
           {
            "cells": {
             "fill": {
              "color": "#506784"
             },
             "line": {
              "color": "rgb(17,17,17)"
             }
            },
            "header": {
             "fill": {
              "color": "#2a3f5f"
             },
             "line": {
              "color": "rgb(17,17,17)"
             }
            },
            "type": "table"
           }
          ]
         },
         "layout": {
          "annotationdefaults": {
           "arrowcolor": "#f2f5fa",
           "arrowhead": 0,
           "arrowwidth": 1
          },
          "autotypenumbers": "strict",
          "coloraxis": {
           "colorbar": {
            "outlinewidth": 0,
            "ticks": ""
           }
          },
          "colorscale": {
           "diverging": [
            [
             0,
             "#8e0152"
            ],
            [
             0.1,
             "#c51b7d"
            ],
            [
             0.2,
             "#de77ae"
            ],
            [
             0.3,
             "#f1b6da"
            ],
            [
             0.4,
             "#fde0ef"
            ],
            [
             0.5,
             "#f7f7f7"
            ],
            [
             0.6,
             "#e6f5d0"
            ],
            [
             0.7,
             "#b8e186"
            ],
            [
             0.8,
             "#7fbc41"
            ],
            [
             0.9,
             "#4d9221"
            ],
            [
             1,
             "#276419"
            ]
           ],
           "sequential": [
            [
             0,
             "#0d0887"
            ],
            [
             0.1111111111111111,
             "#46039f"
            ],
            [
             0.2222222222222222,
             "#7201a8"
            ],
            [
             0.3333333333333333,
             "#9c179e"
            ],
            [
             0.4444444444444444,
             "#bd3786"
            ],
            [
             0.5555555555555556,
             "#d8576b"
            ],
            [
             0.6666666666666666,
             "#ed7953"
            ],
            [
             0.7777777777777778,
             "#fb9f3a"
            ],
            [
             0.8888888888888888,
             "#fdca26"
            ],
            [
             1,
             "#f0f921"
            ]
           ],
           "sequentialminus": [
            [
             0,
             "#0d0887"
            ],
            [
             0.1111111111111111,
             "#46039f"
            ],
            [
             0.2222222222222222,
             "#7201a8"
            ],
            [
             0.3333333333333333,
             "#9c179e"
            ],
            [
             0.4444444444444444,
             "#bd3786"
            ],
            [
             0.5555555555555556,
             "#d8576b"
            ],
            [
             0.6666666666666666,
             "#ed7953"
            ],
            [
             0.7777777777777778,
             "#fb9f3a"
            ],
            [
             0.8888888888888888,
             "#fdca26"
            ],
            [
             1,
             "#f0f921"
            ]
           ]
          },
          "colorway": [
           "#636efa",
           "#EF553B",
           "#00cc96",
           "#ab63fa",
           "#FFA15A",
           "#19d3f3",
           "#FF6692",
           "#B6E880",
           "#FF97FF",
           "#FECB52"
          ],
          "font": {
           "color": "#f2f5fa"
          },
          "geo": {
           "bgcolor": "rgb(17,17,17)",
           "lakecolor": "rgb(17,17,17)",
           "landcolor": "rgb(17,17,17)",
           "showlakes": true,
           "showland": true,
           "subunitcolor": "#506784"
          },
          "hoverlabel": {
           "align": "left"
          },
          "hovermode": "closest",
          "mapbox": {
           "style": "dark"
          },
          "paper_bgcolor": "rgb(17,17,17)",
          "plot_bgcolor": "rgb(17,17,17)",
          "polar": {
           "angularaxis": {
            "gridcolor": "#506784",
            "linecolor": "#506784",
            "ticks": ""
           },
           "bgcolor": "rgb(17,17,17)",
           "radialaxis": {
            "gridcolor": "#506784",
            "linecolor": "#506784",
            "ticks": ""
           }
          },
          "scene": {
           "xaxis": {
            "backgroundcolor": "rgb(17,17,17)",
            "gridcolor": "#506784",
            "gridwidth": 2,
            "linecolor": "#506784",
            "showbackground": true,
            "ticks": "",
            "zerolinecolor": "#C8D4E3"
           },
           "yaxis": {
            "backgroundcolor": "rgb(17,17,17)",
            "gridcolor": "#506784",
            "gridwidth": 2,
            "linecolor": "#506784",
            "showbackground": true,
            "ticks": "",
            "zerolinecolor": "#C8D4E3"
           },
           "zaxis": {
            "backgroundcolor": "rgb(17,17,17)",
            "gridcolor": "#506784",
            "gridwidth": 2,
            "linecolor": "#506784",
            "showbackground": true,
            "ticks": "",
            "zerolinecolor": "#C8D4E3"
           }
          },
          "shapedefaults": {
           "line": {
            "color": "#f2f5fa"
           }
          },
          "sliderdefaults": {
           "bgcolor": "#C8D4E3",
           "bordercolor": "rgb(17,17,17)",
           "borderwidth": 1,
           "tickwidth": 0
          },
          "ternary": {
           "aaxis": {
            "gridcolor": "#506784",
            "linecolor": "#506784",
            "ticks": ""
           },
           "baxis": {
            "gridcolor": "#506784",
            "linecolor": "#506784",
            "ticks": ""
           },
           "bgcolor": "rgb(17,17,17)",
           "caxis": {
            "gridcolor": "#506784",
            "linecolor": "#506784",
            "ticks": ""
           }
          },
          "title": {
           "x": 0.05
          },
          "updatemenudefaults": {
           "bgcolor": "#506784",
           "borderwidth": 0
          },
          "xaxis": {
           "automargin": true,
           "gridcolor": "#283442",
           "linecolor": "#506784",
           "ticks": "",
           "title": {
            "standoff": 15
           },
           "zerolinecolor": "#283442",
           "zerolinewidth": 2
          },
          "yaxis": {
           "automargin": true,
           "gridcolor": "#283442",
           "linecolor": "#506784",
           "ticks": "",
           "title": {
            "standoff": 15
           },
           "zerolinecolor": "#283442",
           "zerolinewidth": 2
          }
         }
        }
       }
      }
     },
     "metadata": {}
    }
   ],
   "metadata": {}
  }
 ],
 "metadata": {
  "orig_nbformat": 4,
  "language_info": {
   "name": "python",
   "version": "3.8.11",
   "mimetype": "text/x-python",
   "codemirror_mode": {
    "name": "ipython",
    "version": 3
   },
   "pygments_lexer": "ipython3",
   "nbconvert_exporter": "python",
   "file_extension": ".py"
  },
  "kernelspec": {
   "name": "python3",
   "display_name": "Python 3.8.11 64-bit ('base': conda)"
  },
  "interpreter": {
   "hash": "091d7f3169c8ccc1d87feff241fcea6f302a0132ce2874b70e96d9a81a8f37ef"
  }
 },
 "nbformat": 4,
 "nbformat_minor": 2
}